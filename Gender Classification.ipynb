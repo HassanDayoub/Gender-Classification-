{
 "cells": [
  {
   "cell_type": "markdown",
   "metadata": {},
   "source": [
    "# Gender Classification"
   ]
  },
  {
   "cell_type": "markdown",
   "metadata": {},
   "source": [
    "### DecisionTreeClassifier "
   ]
  },
  {
   "cell_type": "code",
   "execution_count": 79,
   "metadata": {},
   "outputs": [],
   "source": [
    "from sklearn import tree \n",
    "import csv  \n",
    "from sklearn.model_selection import train_test_split"
   ]
  },
  {
   "cell_type": "code",
   "execution_count": 80,
   "metadata": {},
   "outputs": [],
   "source": [
    "#تابع التقييم للمصنف\n",
    "#Evaluation Function for DT\n",
    "def _eval(y_test,prediction):\n",
    "    count = 0\n",
    "    a = len(y_test)\n",
    "    output = []\n",
    "    target = []\n",
    "    for i in prediction:\n",
    "         output.append(i)\n",
    "    for i in y_test:\n",
    "         target.append(i)\n",
    "    for i in range(0,a):\n",
    "         if output[i] != target[i]:\n",
    "                count+=1\n",
    "    error_rate = count/a\n",
    "    accuracy = 1 - error_rate\n",
    "    print (\"error_rate = \" , error_rate*100)\n",
    "    print (\"accuracy = \" , accuracy*100)\n"
   ]
  },
  {
   "cell_type": "code",
   "execution_count": 81,
   "metadata": {
    "scrolled": false
   },
   "outputs": [
    {
     "name": "stdout",
     "output_type": "stream",
     "text": [
      "[['22', '175', '75', '43'], ['26', '155', '52', '36'], ['24', '170', '70', '41'], ['22', '168', '68', '39'], ['23', '160', '56', '38'], ['24', '185', '62', '43'], ['24', '160', '55', '43'], ['22', '168', '57', '38'], ['16', '170', '50', '41'], ['22', '160', '65', '39'], ['24', '159', '61', '39'], ['26', '188', '70', '44'], ['25', '173', '52', '40'], ['22', '180', '72', '42'], ['22', '183', '67', '44'], ['22', '168', '52', '37'], ['23', '167', '70', '42'], ['21', '164', '74', '42'], ['27', '168', '85', '39'], ['22', '180', '65', '41'], ['24', '167', '49', '37'], ['23', '167', '47', '37'], ['23', '178', '86', '43'], ['24', '180', '70', '44'], ['23', '169', '45', '40'], ['23', '178', '65', '43'], ['23', '175', '75', '43'], ['23', '170', '80', '44'], ['21', '170', '57', '40'], ['60', '165', '77', '40'], ['24', '180', '73', '43'], ['22', '156', '60', '37'], ['22', '170', '82', '44'], ['28', '158', '54', '38'], ['28', '170', '80', '43'], ['20', '176', '67', '41'], ['23', '183', '81', '44'], ['22', '176', '70', '43'], ['27', '180', '60', '42'], ['26', '184', '75', '43'], ['23', '172', '70', '43'], ['32', '165', '58', '39'], ['24', '178', '75', '45'], ['23', '157', '43', '36'], ['23', '170', '60', '41'], ['15', '170', '81.5', '44'], ['23', '170', '50', '42'], ['25', '168', '73', '41'], ['23', '157', '64', '38'], ['24', '163', '65', '38'], ['24', '182', '100', '42'], ['23', '163', '58', '37'], ['23', '163.5', '60', '39'], ['23', '169', '63', '38'], ['24', '158', '43', '36'], ['25', '164', '53', '37'], ['20', '182', '82', '45'], ['23', '175', '75', '42'], ['26', '180', '80', '45'], ['25', '179', '86', '43'], ['23', '177', '71', '43'], ['23', '180', '55', '42'], ['26', '185', '90', '45'], ['24', '181', '87', '43'], ['22', '160', '55', '37'], ['23', '170', '50', '38'], ['23', '190', '100', '47'], ['25', '170', '73', '42'], ['24', '179', '73', '42'], ['24', '182', '67', '43'], ['24', '176', '65', '44'], ['24', '185', '72', '43'], ['25', '169', '75', '39'], ['18', '189', '55', '45'], ['24', '156', '49', '36'], ['23', '160', '53', '37']]\n",
      "['Mal', 'Femal', 'Mal', 'Femal', 'Femal', 'Mal', 'Mal', 'Femal', 'Mal', 'Femal', 'Femal', 'Mal', 'Mal', 'Mal', 'Mal', 'Femal', 'Mal', 'Mal', 'Femal', 'Mal', 'Femal', 'Femal', 'Mal', 'Mal', 'Mal', 'Mal', 'Mal', 'Mal', 'Femal', 'Femal', 'Mal', 'Femal', 'Mal', 'Femal', 'Mal', 'Mal', 'Mal', 'Mal', 'Mal', 'Mal', 'Mal', 'Femal', 'Mal', 'Femal', 'Mal', 'Mal', 'Mal', 'Mal', 'Femal', 'Femal', 'Mal', 'Femal', 'Femal', 'Femal', 'Femal', 'Femal', 'Mal', 'Mal', 'Mal', 'Mal', 'Mal', 'Mal', 'Mal', 'Mal', 'Femal', 'Femal', 'Mal', 'Mal', 'Mal', 'Mal', 'Mal', 'Mal', 'Mal', 'Mal', 'Femal', 'Femal']\n"
     ]
    }
   ],
   "source": [
    "#Load data and split to input and output\n",
    "with open('Train&Test.csv') as csvfileFull:\n",
    "    readCSVFull = csv.reader(csvfileFull,delimiter=',') \n",
    "    xFull=[]\n",
    "    x_row =[]\n",
    "    yFull=[]\n",
    "    yNumeric=[]\n",
    "    for ele in  readCSVFull:\n",
    "        for i in range(2,6):\n",
    "            x1 = ele[i]\n",
    "            x_row.append(x1)\n",
    "        xFull.append(x_row)\n",
    "        x_row = []\n",
    "        yy = ele[1]\n",
    "        yFull.append(yy)\n",
    "print(xFull)\n",
    "print(yFull)"
   ]
  },
  {
   "cell_type": "code",
   "execution_count": 82,
   "metadata": {},
   "outputs": [],
   "source": [
    "#Train/Test Split and Cross Validation \n",
    "x_train, x_test, y_train, y_test = train_test_split(xFull, yFull, test_size=0.3)"
   ]
  },
  {
   "cell_type": "code",
   "execution_count": 83,
   "metadata": {},
   "outputs": [
    {
     "name": "stdout",
     "output_type": "stream",
     "text": [
      "[['27', '168', '85', '39'], ['24', '170', '70', '41'], ['23', '163.5', '60', '39'], ['25', '173', '52', '40'], ['23', '170', '50', '42'], ['23', '157', '64', '38'], ['22', '180', '72', '42'], ['23', '170', '80', '44'], ['23', '172', '70', '43'], ['26', '185', '90', '45'], ['23', '178', '86', '43'], ['22', '176', '70', '43'], ['22', '170', '82', '44'], ['18', '189', '55', '45'], ['21', '164', '74', '42'], ['21', '170', '57', '40'], ['25', '170', '73', '42'], ['24', '159', '61', '39'], ['23', '160', '53', '37'], ['24', '185', '62', '43'], ['23', '175', '75', '42'], ['23', '160', '56', '38'], ['23', '163', '58', '37'], ['24', '180', '70', '44'], ['22', '180', '65', '41'], ['24', '181', '87', '43'], ['26', '184', '75', '43'], ['24', '163', '65', '38'], ['16', '170', '50', '41'], ['22', '160', '65', '39'], ['23', '177', '71', '43'], ['32', '165', '58', '39'], ['26', '180', '80', '45'], ['26', '188', '70', '44'], ['28', '170', '80', '43'], ['24', '160', '55', '43'], ['24', '185', '72', '43'], ['26', '155', '52', '36'], ['22', '168', '68', '39'], ['24', '180', '73', '43'], ['28', '158', '54', '38'], ['23', '190', '100', '47'], ['24', '182', '100', '42'], ['24', '158', '43', '36'], ['60', '165', '77', '40'], ['25', '169', '75', '39'], ['22', '160', '55', '37'], ['23', '169', '63', '38'], ['23', '157', '43', '36'], ['22', '168', '52', '37'], ['25', '164', '53', '37'], ['23', '178', '65', '43'], ['24', '176', '65', '44']]\n",
      "\n",
      "[['27', '180', '60', '42'], ['23', '169', '45', '40'], ['24', '182', '67', '43'], ['23', '170', '50', '38'], ['22', '175', '75', '43'], ['25', '168', '73', '41'], ['24', '179', '73', '42'], ['23', '180', '55', '42'], ['22', '156', '60', '37'], ['24', '167', '49', '37'], ['22', '183', '67', '44'], ['24', '156', '49', '36'], ['15', '170', '81.5', '44'], ['23', '167', '47', '37'], ['23', '167', '70', '42'], ['20', '176', '67', '41'], ['22', '168', '57', '38'], ['23', '183', '81', '44'], ['24', '178', '75', '45'], ['23', '175', '75', '43'], ['20', '182', '82', '45'], ['25', '179', '86', '43'], ['23', '170', '60', '41']]\n",
      "\n",
      "['Femal', 'Mal', 'Femal', 'Mal', 'Mal', 'Femal', 'Mal', 'Mal', 'Mal', 'Mal', 'Mal', 'Mal', 'Mal', 'Mal', 'Mal', 'Femal', 'Mal', 'Femal', 'Femal', 'Mal', 'Mal', 'Femal', 'Femal', 'Mal', 'Mal', 'Mal', 'Mal', 'Femal', 'Mal', 'Femal', 'Mal', 'Femal', 'Mal', 'Mal', 'Mal', 'Mal', 'Mal', 'Femal', 'Femal', 'Mal', 'Femal', 'Mal', 'Mal', 'Femal', 'Femal', 'Mal', 'Femal', 'Femal', 'Femal', 'Femal', 'Femal', 'Mal', 'Mal']\n",
      "\n",
      "['Mal', 'Mal', 'Mal', 'Femal', 'Mal', 'Mal', 'Mal', 'Mal', 'Femal', 'Femal', 'Mal', 'Femal', 'Mal', 'Femal', 'Mal', 'Mal', 'Femal', 'Mal', 'Mal', 'Mal', 'Mal', 'Mal', 'Mal']\n"
     ]
    }
   ],
   "source": [
    "print(x_train)\n",
    "print()\n",
    "print( x_test )\n",
    "print()\n",
    "print( y_train )\n",
    "print()\n",
    "print( y_test )\n",
    "#print(yNumeric)"
   ]
  },
  {
   "cell_type": "markdown",
   "metadata": {},
   "source": [
    "# Decision Tree Classifier"
   ]
  },
  {
   "cell_type": "code",
   "execution_count": 84,
   "metadata": {},
   "outputs": [],
   "source": [
    "#انشاء مصنف من النوع شجرة القرار\n",
    "DTclf = tree.DecisionTreeClassifier()"
   ]
  },
  {
   "cell_type": "code",
   "execution_count": 85,
   "metadata": {},
   "outputs": [],
   "source": [
    "#تدريب المصنف\n",
    "DTclf = DTclf.fit(x_train,y_train)\n",
    "#DTclf = DTclf.fit(xFull,yFull)"
   ]
  },
  {
   "cell_type": "code",
   "execution_count": 86,
   "metadata": {
    "scrolled": true
   },
   "outputs": [
    {
     "name": "stdout",
     "output_type": "stream",
     "text": [
      "['Mal' 'Femal' 'Mal' 'Femal' 'Mal' 'Mal' 'Mal' 'Mal' 'Femal' 'Femal' 'Mal'\n",
      " 'Femal' 'Mal' 'Femal' 'Mal' 'Mal' 'Femal' 'Mal' 'Mal' 'Mal' 'Mal' 'Mal'\n",
      " 'Mal']\n"
     ]
    }
   ],
   "source": [
    "#تطبيق المصنف على بيانات الاختبار\n",
    "predictionDT = DTclf.predict(x_test)\n",
    "print(predictionDT)"
   ]
  },
  {
   "cell_type": "code",
   "execution_count": 87,
   "metadata": {},
   "outputs": [
    {
     "name": "stdout",
     "output_type": "stream",
     "text": [
      "error_rate =  4.3478260869565215\n",
      "accuracy =  95.65217391304348\n"
     ]
    }
   ],
   "source": [
    "#Evaluation Function for DT\n",
    "_eval(y_test,predictionDT)"
   ]
  },
  {
   "cell_type": "code",
   "execution_count": null,
   "metadata": {},
   "outputs": [],
   "source": []
  },
  {
   "cell_type": "markdown",
   "metadata": {},
   "source": [
    "# RandomForestClassifier"
   ]
  },
  {
   "cell_type": "code",
   "execution_count": 88,
   "metadata": {},
   "outputs": [],
   "source": [
    "#RandomForest تضمين مصنف\n",
    "from sklearn.ensemble import RandomForestClassifier\n",
    "RFclf = RandomForestClassifier(max_depth=2, random_state=0)"
   ]
  },
  {
   "cell_type": "code",
   "execution_count": 89,
   "metadata": {},
   "outputs": [
    {
     "data": {
      "text/plain": [
       "RandomForestClassifier(bootstrap=True, class_weight=None, criterion='gini',\n",
       "            max_depth=2, max_features='auto', max_leaf_nodes=None,\n",
       "            min_impurity_decrease=0.0, min_impurity_split=None,\n",
       "            min_samples_leaf=1, min_samples_split=2,\n",
       "            min_weight_fraction_leaf=0.0, n_estimators=10, n_jobs=1,\n",
       "            oob_score=False, random_state=0, verbose=0, warm_start=False)"
      ]
     },
     "execution_count": 89,
     "metadata": {},
     "output_type": "execute_result"
    }
   ],
   "source": [
    "#تدريب المصنف\n",
    "RFclf.fit(x_train,y_train)"
   ]
  },
  {
   "cell_type": "code",
   "execution_count": 90,
   "metadata": {},
   "outputs": [
    {
     "name": "stdout",
     "output_type": "stream",
     "text": [
      "[0.01156717 0.27391468 0.1332309  0.58128725]\n"
     ]
    }
   ],
   "source": [
    "#Return the feature importances (the higher, the more important the feature).\n",
    "#تابع يعيد اهمية كل سمة\n",
    "print(RFclf.feature_importances_) \n"
   ]
  },
  {
   "cell_type": "code",
   "execution_count": 91,
   "metadata": {},
   "outputs": [
    {
     "name": "stdout",
     "output_type": "stream",
     "text": [
      "['Mal' 'Femal' 'Mal' 'Femal' 'Mal' 'Mal' 'Mal' 'Mal' 'Femal' 'Femal' 'Mal'\n",
      " 'Femal' 'Mal' 'Femal' 'Mal' 'Mal' 'Femal' 'Mal' 'Mal' 'Mal' 'Mal' 'Mal'\n",
      " 'Mal']\n"
     ]
    }
   ],
   "source": [
    "#تطبيق المصنف على بيانات الاختبار\n",
    "predictionRF = RFclf.predict(x_test)\n",
    "print(predictionRF)"
   ]
  },
  {
   "cell_type": "code",
   "execution_count": 92,
   "metadata": {},
   "outputs": [
    {
     "name": "stdout",
     "output_type": "stream",
     "text": [
      "error_rate =  4.3478260869565215\n",
      "accuracy =  95.65217391304348\n"
     ]
    }
   ],
   "source": [
    "#Evaluation Function for Random Forest\n",
    "_eval(y_test,predictionRF)\n"
   ]
  },
  {
   "cell_type": "markdown",
   "metadata": {},
   "source": [
    "# Support Vector Machine SVM"
   ]
  },
  {
   "cell_type": "code",
   "execution_count": 93,
   "metadata": {},
   "outputs": [],
   "source": [
    "#Support Vector Machine تضمين مكتبة مصنف\n",
    "from sklearn import svm"
   ]
  },
  {
   "cell_type": "code",
   "execution_count": 94,
   "metadata": {},
   "outputs": [],
   "source": [
    "#SVM اشناء غرض من نوع\n",
    "SVMclf = svm.SVC()"
   ]
  },
  {
   "cell_type": "code",
   "execution_count": 95,
   "metadata": {},
   "outputs": [
    {
     "data": {
      "text/plain": [
       "SVC(C=1.0, cache_size=200, class_weight=None, coef0=0.0,\n",
       "  decision_function_shape='ovr', degree=3, gamma='auto', kernel='rbf',\n",
       "  max_iter=-1, probability=False, random_state=None, shrinking=True,\n",
       "  tol=0.001, verbose=False)"
      ]
     },
     "execution_count": 95,
     "metadata": {},
     "output_type": "execute_result"
    }
   ],
   "source": [
    "#تدريب المصنف\n",
    "SVMclf.fit(x_train,y_train)"
   ]
  },
  {
   "cell_type": "code",
   "execution_count": 96,
   "metadata": {},
   "outputs": [
    {
     "name": "stdout",
     "output_type": "stream",
     "text": [
      "['Mal' 'Mal' 'Mal' 'Mal' 'Mal' 'Mal' 'Mal' 'Mal' 'Mal' 'Mal' 'Mal' 'Mal'\n",
      " 'Mal' 'Mal' 'Mal' 'Mal' 'Mal' 'Mal' 'Mal' 'Mal' 'Mal' 'Mal' 'Mal']\n"
     ]
    }
   ],
   "source": [
    "#تطبيق المصنف على بيانات الاختبار\n",
    "SVMprediction = SVMclf.predict(x_test)\n",
    "print(SVMprediction)"
   ]
  },
  {
   "cell_type": "code",
   "execution_count": 97,
   "metadata": {},
   "outputs": [
    {
     "data": {
      "text/plain": [
       "array([[ 27. , 168. ,  85. ,  39. ],\n",
       "       [ 23. , 163.5,  60. ,  39. ],\n",
       "       [ 23. , 157. ,  64. ,  38. ],\n",
       "       [ 21. , 170. ,  57. ,  40. ],\n",
       "       [ 24. , 159. ,  61. ,  39. ],\n",
       "       [ 23. , 160. ,  53. ,  37. ],\n",
       "       [ 23. , 160. ,  56. ,  38. ],\n",
       "       [ 23. , 163. ,  58. ,  37. ],\n",
       "       [ 24. , 163. ,  65. ,  38. ],\n",
       "       [ 22. , 160. ,  65. ,  39. ],\n",
       "       [ 32. , 165. ,  58. ,  39. ],\n",
       "       [ 26. , 155. ,  52. ,  36. ],\n",
       "       [ 22. , 168. ,  68. ,  39. ],\n",
       "       [ 28. , 158. ,  54. ,  38. ],\n",
       "       [ 24. , 158. ,  43. ,  36. ],\n",
       "       [ 60. , 165. ,  77. ,  40. ],\n",
       "       [ 22. , 160. ,  55. ,  37. ],\n",
       "       [ 23. , 169. ,  63. ,  38. ],\n",
       "       [ 23. , 157. ,  43. ,  36. ],\n",
       "       [ 22. , 168. ,  52. ,  37. ],\n",
       "       [ 25. , 164. ,  53. ,  37. ],\n",
       "       [ 24. , 170. ,  70. ,  41. ],\n",
       "       [ 25. , 173. ,  52. ,  40. ],\n",
       "       [ 23. , 170. ,  50. ,  42. ],\n",
       "       [ 22. , 180. ,  72. ,  42. ],\n",
       "       [ 23. , 170. ,  80. ,  44. ],\n",
       "       [ 23. , 172. ,  70. ,  43. ],\n",
       "       [ 26. , 185. ,  90. ,  45. ],\n",
       "       [ 23. , 178. ,  86. ,  43. ],\n",
       "       [ 22. , 176. ,  70. ,  43. ],\n",
       "       [ 22. , 170. ,  82. ,  44. ],\n",
       "       [ 18. , 189. ,  55. ,  45. ],\n",
       "       [ 21. , 164. ,  74. ,  42. ],\n",
       "       [ 25. , 170. ,  73. ,  42. ],\n",
       "       [ 24. , 185. ,  62. ,  43. ],\n",
       "       [ 23. , 175. ,  75. ,  42. ],\n",
       "       [ 24. , 180. ,  70. ,  44. ],\n",
       "       [ 22. , 180. ,  65. ,  41. ],\n",
       "       [ 24. , 181. ,  87. ,  43. ],\n",
       "       [ 26. , 184. ,  75. ,  43. ],\n",
       "       [ 16. , 170. ,  50. ,  41. ],\n",
       "       [ 23. , 177. ,  71. ,  43. ],\n",
       "       [ 26. , 180. ,  80. ,  45. ],\n",
       "       [ 26. , 188. ,  70. ,  44. ],\n",
       "       [ 28. , 170. ,  80. ,  43. ],\n",
       "       [ 24. , 160. ,  55. ,  43. ],\n",
       "       [ 24. , 185. ,  72. ,  43. ],\n",
       "       [ 24. , 180. ,  73. ,  43. ],\n",
       "       [ 23. , 190. , 100. ,  47. ],\n",
       "       [ 24. , 182. , 100. ,  42. ],\n",
       "       [ 25. , 169. ,  75. ,  39. ],\n",
       "       [ 23. , 178. ,  65. ,  43. ],\n",
       "       [ 24. , 176. ,  65. ,  44. ]])"
      ]
     },
     "execution_count": 97,
     "metadata": {},
     "output_type": "execute_result"
    }
   ],
   "source": [
    " # get support vectors\n",
    "\n",
    "SVMclf.support_vectors_"
   ]
  },
  {
   "cell_type": "code",
   "execution_count": 98,
   "metadata": {},
   "outputs": [
    {
     "data": {
      "text/plain": [
       "array([ 0,  2,  5, 15, 17, 18, 21, 22, 27, 29, 31, 37, 38, 40, 43, 44, 46,\n",
       "       47, 48, 49, 50,  1,  3,  4,  6,  7,  8,  9, 10, 11, 12, 13, 14, 16,\n",
       "       19, 20, 23, 24, 25, 26, 28, 30, 32, 33, 34, 35, 36, 39, 41, 42, 45,\n",
       "       51, 52])"
      ]
     },
     "execution_count": 98,
     "metadata": {},
     "output_type": "execute_result"
    }
   ],
   "source": [
    " # get indices of support vectors\n",
    "SVMclf.support_"
   ]
  },
  {
   "cell_type": "code",
   "execution_count": null,
   "metadata": {},
   "outputs": [],
   "source": []
  },
  {
   "cell_type": "code",
   "execution_count": 99,
   "metadata": {},
   "outputs": [
    {
     "data": {
      "text/plain": [
       "array([21, 32])"
      ]
     },
     "execution_count": 99,
     "metadata": {},
     "output_type": "execute_result"
    }
   ],
   "source": [
    "# get number of support vectors for each class\n",
    "SVMclf.n_support_"
   ]
  },
  {
   "cell_type": "code",
   "execution_count": 100,
   "metadata": {},
   "outputs": [
    {
     "name": "stdout",
     "output_type": "stream",
     "text": [
      "error_rate =  26.08695652173913\n",
      "accuracy =  73.91304347826086\n"
     ]
    }
   ],
   "source": [
    "#تابع تقييم المصنف\n",
    "#Evaluation Function for SVM\n",
    "_eval(y_test,SVMprediction)\n"
   ]
  },
  {
   "cell_type": "markdown",
   "metadata": {},
   "source": []
  },
  {
   "cell_type": "markdown",
   "metadata": {
    "collapsed": true
   },
   "source": []
  },
  {
   "cell_type": "markdown",
   "metadata": {
    "collapsed": true
   },
   "source": []
  },
  {
   "cell_type": "code",
   "execution_count": null,
   "metadata": {},
   "outputs": [],
   "source": []
  },
  {
   "cell_type": "code",
   "execution_count": null,
   "metadata": {},
   "outputs": [],
   "source": []
  },
  {
   "cell_type": "code",
   "execution_count": null,
   "metadata": {},
   "outputs": [],
   "source": []
  },
  {
   "cell_type": "markdown",
   "metadata": {},
   "source": []
  },
  {
   "cell_type": "code",
   "execution_count": null,
   "metadata": {},
   "outputs": [],
   "source": []
  },
  {
   "cell_type": "code",
   "execution_count": null,
   "metadata": {},
   "outputs": [],
   "source": []
  },
  {
   "cell_type": "code",
   "execution_count": null,
   "metadata": {},
   "outputs": [],
   "source": []
  },
  {
   "cell_type": "code",
   "execution_count": null,
   "metadata": {},
   "outputs": [],
   "source": []
  },
  {
   "cell_type": "code",
   "execution_count": null,
   "metadata": {},
   "outputs": [],
   "source": []
  },
  {
   "cell_type": "markdown",
   "metadata": {},
   "source": []
  },
  {
   "cell_type": "code",
   "execution_count": null,
   "metadata": {},
   "outputs": [],
   "source": []
  },
  {
   "cell_type": "code",
   "execution_count": null,
   "metadata": {},
   "outputs": [],
   "source": []
  },
  {
   "cell_type": "code",
   "execution_count": null,
   "metadata": {},
   "outputs": [],
   "source": []
  },
  {
   "cell_type": "markdown",
   "metadata": {},
   "source": []
  },
  {
   "cell_type": "code",
   "execution_count": null,
   "metadata": {},
   "outputs": [],
   "source": []
  },
  {
   "cell_type": "code",
   "execution_count": null,
   "metadata": {},
   "outputs": [],
   "source": []
  },
  {
   "cell_type": "code",
   "execution_count": null,
   "metadata": {},
   "outputs": [],
   "source": []
  },
  {
   "cell_type": "code",
   "execution_count": null,
   "metadata": {},
   "outputs": [],
   "source": [
    "\n"
   ]
  },
  {
   "cell_type": "code",
   "execution_count": null,
   "metadata": {
    "collapsed": true
   },
   "outputs": [],
   "source": []
  }
 ],
 "metadata": {
  "kernelspec": {
   "display_name": "Python 3",
   "language": "python",
   "name": "python3"
  },
  "language_info": {
   "codemirror_mode": {
    "name": "ipython",
    "version": 3
   },
   "file_extension": ".py",
   "mimetype": "text/x-python",
   "name": "python",
   "nbconvert_exporter": "python",
   "pygments_lexer": "ipython3",
   "version": "3.6.4"
  }
 },
 "nbformat": 4,
 "nbformat_minor": 2
}
